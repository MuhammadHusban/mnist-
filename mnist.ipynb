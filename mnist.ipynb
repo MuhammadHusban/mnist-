{
  "nbformat": 4,
  "nbformat_minor": 0,
  "metadata": {
    "colab": {
      "provenance": []
    },
    "kernelspec": {
      "name": "python3",
      "display_name": "Python 3"
    },
    "language_info": {
      "name": "python"
    },
    "accelerator": "GPU",
    "gpuClass": "standard"
  },
  "cells": [
    {
      "cell_type": "code",
      "execution_count": 1,
      "metadata": {
        "colab": {
          "base_uri": "https://localhost:8080/"
        },
        "id": "diSEO2s3NTV4",
        "outputId": "7e095483-12df-478e-aecb-64de6bc87f5f"
      },
      "outputs": [
        {
          "output_type": "stream",
          "name": "stdout",
          "text": [
            "Downloading data from https://storage.googleapis.com/tensorflow/tf-keras-datasets/mnist.npz\n",
            "11490434/11490434 [==============================] - 1s 0us/step\n",
            "Epoch 1/10\n",
            "469/469 [==============================] - 16s 6ms/step - loss: 0.7430 - accuracy: 0.9097 - val_loss: 0.0905 - val_accuracy: 0.9717\n",
            "Epoch 2/10\n",
            "469/469 [==============================] - 2s 5ms/step - loss: 0.0744 - accuracy: 0.9779 - val_loss: 0.0647 - val_accuracy: 0.9825\n",
            "Epoch 3/10\n",
            "469/469 [==============================] - 3s 6ms/step - loss: 0.0484 - accuracy: 0.9853 - val_loss: 0.0605 - val_accuracy: 0.9827\n",
            "Epoch 4/10\n",
            "469/469 [==============================] - 2s 5ms/step - loss: 0.0384 - accuracy: 0.9874 - val_loss: 0.0527 - val_accuracy: 0.9838\n",
            "Epoch 5/10\n",
            "469/469 [==============================] - 2s 5ms/step - loss: 0.0269 - accuracy: 0.9915 - val_loss: 0.0515 - val_accuracy: 0.9853\n",
            "Epoch 6/10\n",
            "469/469 [==============================] - 2s 5ms/step - loss: 0.0268 - accuracy: 0.9916 - val_loss: 0.0657 - val_accuracy: 0.9812\n",
            "Epoch 7/10\n",
            "469/469 [==============================] - 2s 5ms/step - loss: 0.0206 - accuracy: 0.9934 - val_loss: 0.0520 - val_accuracy: 0.9840\n",
            "Epoch 8/10\n",
            "469/469 [==============================] - 3s 6ms/step - loss: 0.0196 - accuracy: 0.9940 - val_loss: 0.0682 - val_accuracy: 0.9826\n",
            "Epoch 9/10\n",
            "469/469 [==============================] - 3s 6ms/step - loss: 0.0179 - accuracy: 0.9943 - val_loss: 0.0510 - val_accuracy: 0.9853\n",
            "Epoch 10/10\n",
            "469/469 [==============================] - 2s 5ms/step - loss: 0.0168 - accuracy: 0.9944 - val_loss: 0.0662 - val_accuracy: 0.9828\n",
            "Test loss: 0.06620945036411285\n",
            "Test accuracy: 0.9828000068664551\n"
          ]
        }
      ],
      "source": [
        "import numpy as np\n",
        "from keras.datasets import mnist\n",
        "from keras.models import Sequential\n",
        "from keras.layers import Conv2D, MaxPooling2D, Flatten, Dense\n",
        "from keras.utils import to_categorical\n",
        "\n",
        "# Load MNIST data\n",
        "(x_train, y_train), (x_test, y_test) = mnist.load_data()\n",
        "\n",
        "# Pre-process data\n",
        "x_train = np.expand_dims(x_train, axis=-1)  # Add channel dimension\n",
        "x_test = np.expand_dims(x_test, axis=-1)  # Add channel dimension\n",
        "y_train = to_categorical(y_train, num_classes=10)  # Convert labels to one-hot encoding\n",
        "y_test = to_categorical(y_test, num_classes=10)  # Convert labels to one-hot encoding\n",
        "\n",
        "# Create CNN model\n",
        "model = Sequential()\n",
        "model.add(Conv2D(32, (3, 3), activation='relu', input_shape=(28, 28, 1)))  # Convolutional layer with 32 filters and 3x3 kernel\n",
        "model.add(MaxPooling2D((2, 2)))  # Max pooling layer with 2x2 pool size\n",
        "model.add(Conv2D(64, (3, 3), activation='relu'))  # Convolutional layer with 64 filters and 3x3 kernel\n",
        "model.add(MaxPooling2D((2, 2)))  # Max pooling layer with 2x2 pool size\n",
        "model.add(Flatten())  # Flatten the tensor to 1D\n",
        "model.add(Dense(64, activation='relu'))  # Fully connected layer with 64 units and ReLU activation\n",
        "model.add(Dense(10, activation='softmax'))  # Output layer with 10 units for 10 classes and softmax activation\n",
        "\n",
        "# Compile the model\n",
        "model.compile(optimizer='adam', loss='categorical_crossentropy', metrics=['accuracy'])\n",
        "\n",
        "# Train the model\n",
        "model.fit(x_train, y_train, batch_size=128, epochs=10, verbose=1, validation_data=(x_test, y_test))\n",
        "\n",
        "# Evaluate the model\n",
        "score = model.evaluate(x_test, y_test, verbose=0)\n",
        "print('Test loss:', score[0])\n",
        "print('Test accuracy:', score[1])\n"
      ]
    },
    {
      "cell_type": "code",
      "source": [
        "import numpy as np\n",
        "import matplotlib.pyplot as plt\n",
        "from keras.models import load_model\n",
        "\n",
        "# # Load MNIST data\n",
        "# (x_train, y_train), (x_test, y_test) = mnist.load_data()\n",
        "\n",
        "# # Pre-process data\n",
        "# x_train = np.expand_dims(x_train, axis=-1)  # Add channel dimension\n",
        "# x_test = np.expand_dims(x_test, axis=-1)  # Add channel dimension\n",
        "\n",
        "# # Load trained model\n",
        "# model = load_model('mnist_cnn_model.h5')  # Load the trained model, replace with your model file name\n",
        "\n",
        "# Choose a random test image for prediction\n",
        "idx = np.random.randint(0, len(x_test))\n",
        "test_image = x_test[idx]\n",
        "true_label = np.argmax(y_test[idx])\n",
        "\n",
        "# Make prediction\n",
        "predicted_probs = model.predict(np.expand_dims(test_image, axis=0))\n",
        "predicted_label = np.argmax(predicted_probs)\n",
        "\n",
        "# Display the original image and the predicted label\n",
        "plt.imshow(test_image.squeeze(), cmap='gray')\n",
        "plt.title(f'True Label: {true_label}\\nPredicted Label: {predicted_label}')\n",
        "plt.axis('off')\n",
        "plt.show()\n"
      ],
      "metadata": {
        "colab": {
          "base_uri": "https://localhost:8080/",
          "height": 466
        },
        "id": "0-rLei2GNolr",
        "outputId": "2728a958-b3db-4fc0-d7e4-37b08658a359"
      },
      "execution_count": 2,
      "outputs": [
        {
          "output_type": "stream",
          "name": "stdout",
          "text": [
            "1/1 [==============================] - 0s 193ms/step\n"
          ]
        },
        {
          "output_type": "display_data",
          "data": {
            "text/plain": [
              "<Figure size 640x480 with 1 Axes>"
            ],
            "image/png": "[encoded data removed]"
          },
          "metadata": {}
        }
      ]
    },
    {
      "cell_type": "code",
      "source": [],
      "metadata": {
        "id": "PcliBZaMOmcy"
      },
      "execution_count": null,
      "outputs": []
    }
  ]
}